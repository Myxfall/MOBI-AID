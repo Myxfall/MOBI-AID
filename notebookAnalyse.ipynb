{
 "cells": [
  {
   "cell_type": "markdown",
   "metadata": {},
   "source": [
    "# Documents Interactif\n",
    "## Analyse des utilisations des stations Villo\n",
    "> Warning: Insérer des valeurs avant d'éxécuter\n",
    "\n",
    "Villo est un moyen de locomotion inséré sur Bruxelles par JCDecaux depuis @DATE@.  Ce moyen vous permet de facilement prendre un villo d'un point A à un point B avec presque qu'aucun coût, seulement votre abonnement annuel. Ces villos sont des vélos de type ville, rassemblés dans des stations éparpillés sur Bruxelles.  Il suffit de scanner une carte abonnement et de prendre un villo pour ainsi se déplacer là où il le faut.\n",
    "\n",
    "Ce document analyse donc des informations précises sur des stations données, afin de mieux percevoir la fréquence d'utilisation de ces stations, et leurs corrélations."
   ]
  },
  {
   "cell_type": "code",
   "execution_count": 1,
   "metadata": {
    "collapsed": true
   },
   "outputs": [],
   "source": [
    "#!/usr/bin/Rscript\n",
    "library(\"DBI\")\n",
    "library(\"RSQLite\")\n",
    "library(\"ggplot2\")"
   ]
  },
  {
   "cell_type": "code",
   "execution_count": 2,
   "metadata": {
    "collapsed": true
   },
   "outputs": [],
   "source": [
    "stationA <- 10 #@Valeur Station 1@\n",
    "stationB <- 20 #@Valeur station 2@"
   ]
  },
  {
   "cell_type": "code",
   "execution_count": null,
   "metadata": {
    "collapsed": true
   },
   "outputs": [],
   "source": [
    "con <- dbConnect(SQLite(), dbname=\"mobilityBike.db\")\n",
    "\n",
    "tab <- dbGetQuery(con, \"SELECT name from staticTable\")\n",
    "print(tab)"
   ]
  },
  {
   "cell_type": "code",
   "execution_count": 3,
   "metadata": {
    "collapsed": true
   },
   "outputs": [],
   "source": [
    "corrBetweenStations <- function(station_One, station_two) {\n",
    "  query_one <- paste(\"SELECT * FROM dynamicTable WHERE stationID = \", station_One)\n",
    "  query_two <- paste(\"SELECT * FROM dynamicTable WHERE stationID = \", station_two)\n",
    "  \n",
    "  dataStationOne <- dbGetQuery(con, query_one)\n",
    "  dataStationTwo <- dbGetQuery(con, query_two)\n",
    "  print(dataStationOne)\n",
    "  print(dataStationTwo)\n",
    "  \n",
    "  #print(qplot(data = dataStationOne, timeStamp, available_bikes, color=status))\n",
    "  #print(ggplot(data = dataStationOne, aes(y = available_bikes)) +geom_density())\n",
    "  \n",
    "  #cor(dataStationOne, dataStationTwo)\n",
    "  \n",
    "  xrange <- range(dataStationOne$timeStamp)\n",
    "  yrange <- range(dataStationOne$available_bikes)\n",
    "  \n",
    "  #plot(xrange, yrange, type=\"n\", xlab=\"Time\", ylab=\"Available Bikes\")\n",
    "  #lines(dataStationOne$timeStamp, dataStationOne$available_bikes, lwd=1.5)   \n",
    "}"
   ]
  },
  {
   "cell_type": "code",
   "execution_count": null,
   "metadata": {
    "collapsed": false
   },
   "outputs": [],
   "source": [
    "corrBetweenStations(stationA, stationB)"
   ]
  }
 ],
 "metadata": {
  "anaconda-cloud": {},
  "kernelspec": {
   "display_name": "R",
   "language": "R",
   "name": "ir"
  },
  "language_info": {
   "codemirror_mode": "r",
   "file_extension": ".r",
   "mimetype": "text/x-r-source",
   "name": "R",
   "pygments_lexer": "r",
   "version": "3.3.1"
  }
 },
 "nbformat": 4,
 "nbformat_minor": 1
}
