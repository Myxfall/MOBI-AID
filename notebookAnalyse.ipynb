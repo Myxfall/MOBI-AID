{
 "cells": [
  {
   "cell_type": "markdown",
   "metadata": {},
   "source": [
    "# Documents Interactif\n",
    "## Analyse des utilisations des stations Villo\n",
    "> Warning: Insérer des valeurs avant d'éxécuter"
   ]
  },
  {
   "cell_type": "code",
   "execution_count": 1,
   "metadata": {
    "collapsed": false
   },
   "outputs": [
    {
     "ename": "ERROR",
     "evalue": "Error in library(\"RSQLite\"): there is no package called ‘RSQLite’\n",
     "output_type": "error",
     "traceback": [
      "Error in library(\"RSQLite\"): there is no package called ‘RSQLite’\nTraceback:\n",
      "1. library(\"RSQLite\")",
      "2. stop(txt, domain = NA)"
     ]
    }
   ],
   "source": [
    "setwd(\"/Users/user/Documents/3eme/MOBI-AID/MOBI-AID/\")\n",
    "\n",
    "library(\"RSQLite\")\n",
    "\n",
    "con <- dbConnect(SQLite(), dbname=\"mobilityBike.db\")\n",
    "query <- \"SELECT available_bikes from dynamicTable WHERE stationID = 1\"\n",
    "availableBikes <- as.vector(unlist(dbGetQuery(con, query)))\n",
    "\n",
    "query <- \"SELECT available_bikes from dynamicTable WHERE stationID = 2\"\n",
    "availableBikes1 <- as.vector(unlist(dbGetQuery(con, query)))\n",
    "\n",
    "\n",
    "corrBetweenStations <- function(station_One, station_two) {\n",
    "  query <- paste(\"SELET available_bikes FROM dynamicTable WHERE stationID = \", station_One)\n",
    "  \n",
    "  query <- ...\n",
    "}"
   ]
  }
 ],
 "metadata": {
  "anaconda-cloud": {},
  "kernelspec": {
   "display_name": "R",
   "language": "R",
   "name": "ir"
  },
  "language_info": {
   "codemirror_mode": "r",
   "file_extension": ".r",
   "mimetype": "text/x-r-source",
   "name": "R",
   "pygments_lexer": "r",
   "version": "3.3.1"
  }
 },
 "nbformat": 4,
 "nbformat_minor": 1
}
